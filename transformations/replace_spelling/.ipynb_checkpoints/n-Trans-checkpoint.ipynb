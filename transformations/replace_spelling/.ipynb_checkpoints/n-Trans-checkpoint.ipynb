{
 "cells": [
  {
   "cell_type": "code",
   "execution_count": 1,
   "id": "c6055290",
   "metadata": {},
   "outputs": [],
   "source": [
    "import json\n",
    "from TestRunner import convert_to_snake_case\n",
    "from transformation import SpellingTransformation"
   ]
  },
  {
   "cell_type": "code",
   "execution_count": 2,
   "id": "41c18361",
   "metadata": {},
   "outputs": [],
   "source": [
    "tf = SpellingTransformation(max_outputs=3)\n",
    "sentence = \"Andrew finally returned the French book to Chris that I bought last week\""
   ]
  },
  {
   "cell_type": "code",
   "execution_count": 3,
   "id": "598f8947",
   "metadata": {},
   "outputs": [
    {
     "data": {
      "text/plain": [
       "['Andrew finely reyterned the freach books to Chris that I bought last week',\n",
       " 'Andrew finally retond that Franch books too Chris that are boght last week',\n",
       " 'Andrew finally reyterned the French boak to Chris that I brought last week']"
      ]
     },
     "execution_count": 3,
     "metadata": {},
     "output_type": "execute_result"
    }
   ],
   "source": [
    "tf.generate(sentence)"
   ]
  },
  {
   "cell_type": "code",
   "execution_count": null,
   "id": "1e03a0a9",
   "metadata": {},
   "outputs": [],
   "source": []
  },
  {
   "cell_type": "code",
   "execution_count": null,
   "id": "58254abc",
   "metadata": {},
   "outputs": [],
   "source": []
  },
  {
   "cell_type": "code",
   "execution_count": null,
   "id": "3c8d50e5",
   "metadata": {},
   "outputs": [],
   "source": []
  },
  {
   "cell_type": "code",
   "execution_count": 4,
   "id": "d6511b6f",
   "metadata": {},
   "outputs": [],
   "source": [
    "\n",
    "sentences =  [\n",
    "    \"Andrew finally returned the French book to Chris that I bought last week\",\n",
    "    \"Sentences with gapping, such as Paul likes coffee and Mary tea, lack an overt predicate to indicate the relation between two or more arguments.\",\n",
    "    \"Alice in Wonderland is a 2010 American live-action/animated dark fantasy adventure film\",\n",
    "    \"Ujjal Dev Dosanjh served as 33rd Premier of British Columbia from 2000 to 2001\",\n",
    "    \"Neuroplasticity is a continuous processing allowing short-term, medium-term, and long-term remodeling of the neuronosynaptic organization.\"]"
   ]
  },
  {
   "cell_type": "code",
   "execution_count": 5,
   "id": "9f79501a",
   "metadata": {},
   "outputs": [],
   "source": [
    "def generate_json(sentences):\n",
    "    test_cases = []\n",
    "    for sentence in sentences:\n",
    "        outputs = [{\"sentence\": o} for o in tf.generate(sentence)]\n",
    "        test_cases.append(\n",
    "            {\n",
    "            \"class\": tf.name(),\n",
    "            \"inputs\": {\"sentence\": sentence}, \n",
    "                \"outputs\": outputs}\n",
    "        )\n",
    "    json_file = {\"type\": convert_to_snake_case(tf.name()), \"test_cases\": test_cases}\n",
    "    return json_file"
   ]
  },
  {
   "cell_type": "code",
   "execution_count": 6,
   "id": "66c163eb",
   "metadata": {},
   "outputs": [],
   "source": [
    "json_file = generate_json(sentences)"
   ]
  },
  {
   "cell_type": "code",
   "execution_count": 10,
   "id": "36370e4f",
   "metadata": {},
   "outputs": [],
   "source": [
    "with open('test.json', 'w') as fp:\n",
    "    json.dump(json_file, fp, indent=2)"
   ]
  },
  {
   "cell_type": "code",
   "execution_count": 7,
   "id": "7c9db703",
   "metadata": {},
   "outputs": [
    {
     "name": "stdout",
     "output_type": "stream",
     "text": [
      "{\n",
      "  \"type\": \"spelling_transformation\",\n",
      "  \"test_cases\": [\n",
      "    {\n",
      "      \"class\": \"SpellingTransformation\",\n",
      "      \"inputs\": {\n",
      "        \"sentence\": \"Andrew finally returned the French book to Chris that I bought last week\"\n",
      "      },\n",
      "      \"outputs\": [\n",
      "        {\n",
      "          \"sentence\": \"Andrew finally reyterned thw freach book ro Chris that I bought last weak\"\n",
      "        },\n",
      "        {\n",
      "          \"sentence\": \"Andrew fianlly reyterned the freach book to Chris theut I bout last week\"\n",
      "        },\n",
      "        {\n",
      "          \"sentence\": \"Andrew finaly returned the French boak to Chris that I boght last weak\"\n",
      "        }\n",
      "      ]\n",
      "    },\n",
      "    {\n",
      "      \"class\": \"SpellingTransformation\",\n",
      "      \"inputs\": {\n",
      "        \"sentence\": \"Sentences with gapping, such as Paul likes coffee and Mary tea, lack an overt predicate to indicate the relation between two or more arguments.\"\n",
      "      },\n",
      "      \"outputs\": [\n",
      "        {\n",
      "          \"sentence\": \"Sentences wiht gapping, sach ass Paul likes cofee I Marry tea, lake an overt predicate two indecate that relation bere_twin two or more arguments.\"\n",
      "        },\n",
      "        {\n",
      "          \"sentence\": \"Sentences witht gapping, sach tes Paul likes cofee and Mary tea, lake on overt predicate qu indecate tghe relation beeween two or mooe arguments.\"\n",
      "        },\n",
      "        {\n",
      "          \"sentence\": \"Sentences wiy gapping, such as Paul likes coffee an Marry tea, lake an overt predicate two indecate to relation beeween two or more arguments.\"\n",
      "        }\n",
      "      ]\n",
      "    },\n",
      "    {\n",
      "      \"class\": \"SpellingTransformation\",\n",
      "      \"inputs\": {\n",
      "        \"sentence\": \"Alice in Wonderland is a 2010 American live-action/animated dark fantasy adventure film\"\n",
      "      },\n",
      "      \"outputs\": [\n",
      "        {\n",
      "          \"sentence\": \"Alice in Wonderland in I 2010 American live-action/animated brek fantasy adventure flim\"\n",
      "        },\n",
      "        {\n",
      "          \"sentence\": \"Alice is Wonderland his and 2010 American live-action/animated dork fantast aventure film\"\n",
      "        },\n",
      "        {\n",
      "          \"sentence\": \"Alice i Wonderland us are 2010 American live-action/animated dark fantasy adventure film\"\n",
      "        }\n",
      "      ]\n",
      "    },\n",
      "    {\n",
      "      \"class\": \"SpellingTransformation\",\n",
      "      \"inputs\": {\n",
      "        \"sentence\": \"Ujjal Dev Dosanjh served as 33rd Premier of British Columbia from 2000 to 2001\"\n",
      "      },\n",
      "      \"outputs\": [\n",
      "        {\n",
      "          \"sentence\": \"Ujjal Dev Dosanjh served als 33rd Premier of Brittish Columbia fou 2000 to 2001\"\n",
      "        },\n",
      "        {\n",
      "          \"sentence\": \"Ujjal Dev Dosanjh served as 33rd Premier ovot British Columbia torme 2000 to 2001\"\n",
      "        },\n",
      "        {\n",
      "          \"sentence\": \"Ujjal Dev Dosanjh served have 33rd Premier oaf Brittish Columbia fom 2000 to 2001\"\n",
      "        }\n",
      "      ]\n",
      "    },\n",
      "    {\n",
      "      \"class\": \"SpellingTransformation\",\n",
      "      \"inputs\": {\n",
      "        \"sentence\": \"Neuroplasticity is a continuous processing allowing short-term, medium-term, and long-term remodeling of the neuronosynaptic organization.\"\n",
      "      },\n",
      "      \"outputs\": [\n",
      "        {\n",
      "          \"sentence\": \"Neuroplasticity is the countinueous processing allowing short-term, medium-term, anf long-term remodeling of I neuronosynaptic organization.\"\n",
      "        },\n",
      "        {\n",
      "          \"sentence\": \"Neuroplasticity us an continuoes processing allowing short-term, medium-term, and long-term remodeling with tjhe neuronosynaptic organization.\"\n",
      "        },\n",
      "        {\n",
      "          \"sentence\": \"Neuroplasticity is a continuous prcessing allowing short-term, medium-term, and long-term remodeling ovot the neuronosynaptic organization.\"\n",
      "        }\n",
      "      ]\n",
      "    }\n",
      "  ]\n",
      "}\n"
     ]
    }
   ],
   "source": [
    "print(json.dumps(json_file, indent=2))"
   ]
  },
  {
   "cell_type": "code",
   "execution_count": null,
   "id": "5f2f235d",
   "metadata": {},
   "outputs": [],
   "source": []
  }
 ],
 "metadata": {
  "kernelspec": {
   "display_name": "Python 3",
   "language": "python",
   "name": "python3"
  },
  "language_info": {
   "codemirror_mode": {
    "name": "ipython",
    "version": 3
   },
   "file_extension": ".py",
   "mimetype": "text/x-python",
   "name": "python",
   "nbconvert_exporter": "python",
   "pygments_lexer": "ipython3",
   "version": "3.9.2"
  }
 },
 "nbformat": 4,
 "nbformat_minor": 5
}
